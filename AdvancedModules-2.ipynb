{
 "cells": [
  {
   "cell_type": "code",
   "execution_count": 1,
   "metadata": {},
   "outputs": [
    {
     "data": {
      "text/plain": [
       "'/Users/agupta/Desktop/PYTHON'"
      ]
     },
     "execution_count": 1,
     "metadata": {},
     "output_type": "execute_result"
    }
   ],
   "source": [
    "pwd"
   ]
  },
  {
   "cell_type": "code",
   "execution_count": 2,
   "metadata": {},
   "outputs": [],
   "source": [
    "f= open(\"practice.txt\",'w+')\n",
    "f.write(\"this is the test string\")\n",
    "f.close()"
   ]
  },
  {
   "cell_type": "code",
   "execution_count": 3,
   "metadata": {},
   "outputs": [],
   "source": [
    "import os"
   ]
  },
  {
   "cell_type": "code",
   "execution_count": 4,
   "metadata": {},
   "outputs": [
    {
     "data": {
      "text/plain": [
       "'/Users/agupta/Desktop/PYTHON'"
      ]
     },
     "execution_count": 4,
     "metadata": {},
     "output_type": "execute_result"
    }
   ],
   "source": [
    "os.getcwd()"
   ]
  },
  {
   "cell_type": "code",
   "execution_count": 5,
   "metadata": {},
   "outputs": [
    {
     "data": {
      "text/plain": [
       "['untitled folder',\n",
       " 'myfile_3.txt',\n",
       " 'StringFormatting.ipynb',\n",
       " 'specialmethods.ipynb',\n",
       " 'one.py',\n",
       " 'Decorators.ipynb',\n",
       " 'Untitled1.ipynb',\n",
       " 'myfirstnotebook.ipynb',\n",
       " '.DS_Store',\n",
       " 'Numbers.ipynb',\n",
       " 'Sets.ipynb',\n",
       " 'Boolean.ipynb',\n",
       " 'Untitled3.ipynb',\n",
       " 'Untitled.ipynb',\n",
       " 'ListComprehensions.ipynb',\n",
       " 'Generators.ipynb',\n",
       " 'usefulOperators.ipynb',\n",
       " 'ForLoops.ipynb',\n",
       " 'FloatFormatting.ipynb',\n",
       " 'practice.txt',\n",
       " 'ErrorHandling.ipynb',\n",
       " 'Lists.ipynb',\n",
       " 'Dictionary.ipynb',\n",
       " 'two.py',\n",
       " 'whileloop.ipynb',\n",
       " 'Untitled2.ipynb',\n",
       " 'assessment.ipynb',\n",
       " 'Tuples.ipynb',\n",
       " 'myprogram.py',\n",
       " 'AdvancedModules-1.ipynb',\n",
       " 'functions1.ipynb',\n",
       " 'methods.ipynb',\n",
       " 'Inheritance.ipynb',\n",
       " 'one.pyc',\n",
       " 'module.pyc',\n",
       " 'filefolder',\n",
       " 'MyMainPackage',\n",
       " 'OOP3.ipynb',\n",
       " 'Functions5.ipynb',\n",
       " 'OOP1.ipynb',\n",
       " 'Function3.ipynb',\n",
       " 'python-statements-test.ipynb',\n",
       " 'Comparison.ipynb',\n",
       " 'Function4.ipynb',\n",
       " 'myfile.txt',\n",
       " '.ipynb_checkpoints',\n",
       " 'AdvancedModules-2.ipynb',\n",
       " 'Strings.ipynb',\n",
       " 'module.py',\n",
       " 'Linting.ipynb',\n",
       " 'breakPassContinue.ipynb',\n",
       " 'IFELIFELSE.ipynb',\n",
       " 'IOFiles.ipynb',\n",
       " 'Function6.ipynb',\n",
       " 'function2.ipynb',\n",
       " 'scopesNestedStatements.ipynb',\n",
       " 'testfile',\n",
       " 'OOP2.ipynb',\n",
       " 'asdas.txt']"
      ]
     },
     "execution_count": 5,
     "metadata": {},
     "output_type": "execute_result"
    }
   ],
   "source": [
    "os.listdir()"
   ]
  },
  {
   "cell_type": "code",
   "execution_count": 6,
   "metadata": {},
   "outputs": [
    {
     "data": {
      "text/plain": [
       "['.%522959EC.png',\n",
       " '.config',\n",
       " 'Music',\n",
       " '.%E40262E1.png',\n",
       " '.condarc',\n",
       " '.docker',\n",
       " '.%B2283C72.png',\n",
       " '.node-gyp',\n",
       " '.DS_Store',\n",
       " '.czrc',\n",
       " '.yarnrc',\n",
       " '.CFUserTextEncoding',\n",
       " '.%0226CE70.png',\n",
       " '.angular-config.json',\n",
       " 'UC-LCSSALG2.jpg',\n",
       " '.%A487A382.png',\n",
       " '.netrc',\n",
       " 'VPN',\n",
       " '.local',\n",
       " '.psql_history',\n",
       " '.emscripten',\n",
       " 'Projects',\n",
       " 'Pictures',\n",
       " '.pylint.d',\n",
       " 'Postman',\n",
       " 'Learnings_Backbone',\n",
       " 'Angular',\n",
       " '.ipython',\n",
       " 'Desktop',\n",
       " 'Library',\n",
       " '.test.txt',\n",
       " '.matplotlib',\n",
       " 'Backend',\n",
       " '.oracle_jre_usage',\n",
       " '.emulator_console_auth_token',\n",
       " 'gs_file_cache',\n",
       " 'mongodb',\n",
       " '.bash_profile.pysave',\n",
       " '.node_repl_history',\n",
       " '.%1301FE3E.png',\n",
       " '.android',\n",
       " '.pgAdmin4.startup.log',\n",
       " '.pgadmin',\n",
       " '.cups',\n",
       " '.bash_sessions',\n",
       " 'Public',\n",
       " 'logs',\n",
       " '.%40111404.png',\n",
       " '.anaconda',\n",
       " '.ssh',\n",
       " 'sample.csv.sb-4c267837-j8z7FZ',\n",
       " 'Movies',\n",
       " '.dotnet',\n",
       " 'Applications',\n",
       " '.%D0D275C0.png',\n",
       " '.dbshell',\n",
       " '.gradle',\n",
       " '.%33C3C9D8.png',\n",
       " '.Trash',\n",
       " '.jupyter',\n",
       " '.npm',\n",
       " 'Documents',\n",
       " '.ionic',\n",
       " '.vscode',\n",
       " '.m2',\n",
       " '.bash_profile',\n",
       " 'Backup',\n",
       " '.%47126335.png',\n",
       " 'Downloads',\n",
       " '.python_history',\n",
       " '.gitconfig',\n",
       " '.mongorc.js',\n",
       " '.%0F120B3C.png',\n",
       " '.bash_history',\n",
       " '.viminfo',\n",
       " '.conda',\n",
       " '.3T',\n",
       " 'sample.rtf']"
      ]
     },
     "execution_count": 6,
     "metadata": {},
     "output_type": "execute_result"
    }
   ],
   "source": [
    "os.listdir('/Users/agupta/')"
   ]
  },
  {
   "cell_type": "code",
   "execution_count": 7,
   "metadata": {},
   "outputs": [],
   "source": [
    "import shutil "
   ]
  },
  {
   "cell_type": "code",
   "execution_count": 8,
   "metadata": {},
   "outputs": [
    {
     "data": {
      "text/plain": [
       "'/Users/agupta/Desktop/practice.txt'"
      ]
     },
     "execution_count": 8,
     "metadata": {},
     "output_type": "execute_result"
    }
   ],
   "source": [
    "shutil.move(\"practice.txt\",'/Users/agupta/Desktop')"
   ]
  },
  {
   "cell_type": "code",
   "execution_count": 9,
   "metadata": {},
   "outputs": [
    {
     "data": {
      "text/plain": [
       "'/Users/agupta/Desktop/PYTHON/practice.txt'"
      ]
     },
     "execution_count": 9,
     "metadata": {},
     "output_type": "execute_result"
    }
   ],
   "source": [
    "shutil.move(\"/Users/agupta/Desktop/practice.txt\",'/Users/agupta/Desktop/PYTHON')"
   ]
  },
  {
   "cell_type": "code",
   "execution_count": 10,
   "metadata": {},
   "outputs": [],
   "source": [
    "import send2trash"
   ]
  },
  {
   "cell_type": "code",
   "execution_count": 11,
   "metadata": {},
   "outputs": [
    {
     "data": {
      "text/plain": [
       "<module 'send2trash' from '/opt/anaconda3/lib/python3.7/site-packages/send2trash/__init__.py'>"
      ]
     },
     "execution_count": 11,
     "metadata": {},
     "output_type": "execute_result"
    }
   ],
   "source": [
    "send2trash"
   ]
  },
  {
   "cell_type": "code",
   "execution_count": 12,
   "metadata": {},
   "outputs": [
    {
     "data": {
      "text/plain": [
       "['untitled folder',\n",
       " 'myfile_3.txt',\n",
       " 'StringFormatting.ipynb',\n",
       " 'specialmethods.ipynb',\n",
       " 'one.py',\n",
       " 'Decorators.ipynb',\n",
       " 'Untitled1.ipynb',\n",
       " 'myfirstnotebook.ipynb',\n",
       " '.DS_Store',\n",
       " 'Numbers.ipynb',\n",
       " 'Sets.ipynb',\n",
       " 'Boolean.ipynb',\n",
       " 'Untitled3.ipynb',\n",
       " 'Untitled.ipynb',\n",
       " 'ListComprehensions.ipynb',\n",
       " 'Generators.ipynb',\n",
       " 'usefulOperators.ipynb',\n",
       " 'ForLoops.ipynb',\n",
       " 'FloatFormatting.ipynb',\n",
       " 'practice.txt',\n",
       " 'ErrorHandling.ipynb',\n",
       " 'Lists.ipynb',\n",
       " 'Dictionary.ipynb',\n",
       " 'two.py',\n",
       " 'whileloop.ipynb',\n",
       " 'Untitled2.ipynb',\n",
       " 'assessment.ipynb',\n",
       " 'Tuples.ipynb',\n",
       " 'myprogram.py',\n",
       " 'AdvancedModules-1.ipynb',\n",
       " 'functions1.ipynb',\n",
       " 'methods.ipynb',\n",
       " 'Inheritance.ipynb',\n",
       " 'one.pyc',\n",
       " 'module.pyc',\n",
       " 'filefolder',\n",
       " 'MyMainPackage',\n",
       " 'OOP3.ipynb',\n",
       " 'Functions5.ipynb',\n",
       " 'OOP1.ipynb',\n",
       " 'Function3.ipynb',\n",
       " 'python-statements-test.ipynb',\n",
       " 'Comparison.ipynb',\n",
       " 'Function4.ipynb',\n",
       " 'myfile.txt',\n",
       " '.ipynb_checkpoints',\n",
       " 'AdvancedModules-2.ipynb',\n",
       " 'Strings.ipynb',\n",
       " 'module.py',\n",
       " 'Linting.ipynb',\n",
       " 'breakPassContinue.ipynb',\n",
       " 'IFELIFELSE.ipynb',\n",
       " 'IOFiles.ipynb',\n",
       " 'Function6.ipynb',\n",
       " 'function2.ipynb',\n",
       " 'scopesNestedStatements.ipynb',\n",
       " 'testfile',\n",
       " 'OOP2.ipynb',\n",
       " 'asdas.txt']"
      ]
     },
     "execution_count": 12,
     "metadata": {},
     "output_type": "execute_result"
    }
   ],
   "source": [
    "os.listdir()"
   ]
  },
  {
   "cell_type": "code",
   "execution_count": 14,
   "metadata": {},
   "outputs": [],
   "source": [
    "send2trash.send2trash(\"practice.txt\")"
   ]
  },
  {
   "cell_type": "code",
   "execution_count": 15,
   "metadata": {},
   "outputs": [
    {
     "data": {
      "text/plain": [
       "'/Users/agupta/Desktop/PYTHON'"
      ]
     },
     "execution_count": 15,
     "metadata": {},
     "output_type": "execute_result"
    }
   ],
   "source": [
    "os.getcwd()"
   ]
  },
  {
   "cell_type": "code",
   "execution_count": 20,
   "metadata": {},
   "outputs": [
    {
     "name": "stdout",
     "output_type": "stream",
     "text": [
      "/Users/agupta/Desktop/PYTHON/MyMainPackage\n",
      "\n",
      "\n",
      "['.DS_Store', 'some_main_script.pyc', '__init__.py', 'some_main_script.py', '__init__.pyc']\n",
      "\n",
      "\n",
      "SubPackage\n",
      "/Users/agupta/Desktop/PYTHON/MyMainPackage/SubPackage\n",
      "\n",
      "\n",
      "['my_sub_script.pyc', '__init__.py', 'my_sub_script.py', '__init__.pyc']\n",
      "\n",
      "\n"
     ]
    }
   ],
   "source": [
    "for folder,sub_folders,files in os.walk('/Users/agupta/Desktop/PYTHON/MyMainPackage'):\n",
    "    print(folder)\n",
    "    print('\\n')\n",
    "    print(files)\n",
    "    print('\\n')\n",
    "    for subfold in sub_folders:\n",
    "        print(subfold)"
   ]
  },
  {
   "cell_type": "code",
   "execution_count": null,
   "metadata": {},
   "outputs": [],
   "source": []
  }
 ],
 "metadata": {
  "kernelspec": {
   "display_name": "Python 3",
   "language": "python",
   "name": "python3"
  },
  "language_info": {
   "codemirror_mode": {
    "name": "ipython",
    "version": 3
   },
   "file_extension": ".py",
   "mimetype": "text/x-python",
   "name": "python",
   "nbconvert_exporter": "python",
   "pygments_lexer": "ipython3",
   "version": "3.7.6"
  }
 },
 "nbformat": 4,
 "nbformat_minor": 4
}
